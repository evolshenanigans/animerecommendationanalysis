{
 "cells": [
  {
   "cell_type": "code",
   "execution_count": 1,
   "id": "0dda3f65-ca97-4729-9be7-e9539ff50ff1",
   "metadata": {},
   "outputs": [],
   "source": [
    "import pandas as pd\n",
    "import numpy as np\n",
    "import matplotlib.pyplot as plt\n",
    "import seaborn as sns"
   ]
  },
  {
   "cell_type": "code",
   "execution_count": 2,
   "id": "f02fb803-eaf5-4326-8d45-4c5427366538",
   "metadata": {},
   "outputs": [],
   "source": [
    "anime_df = pd.read_csv('anime_data.csv')\n",
    "reviews_df = pd.read_csv('anime_reviews.csv')"
   ]
  },
  {
   "cell_type": "code",
   "execution_count": 3,
   "id": "9688e5fe-cc00-4203-93fd-c6e8fc51af2a",
   "metadata": {},
   "outputs": [
    {
     "name": "stdout",
     "output_type": "stream",
     "text": [
      "Anime dataset shape: (125, 23)\n",
      "Reviews dataset shape: (360, 4)\n",
      "\n",
      "First few rows of anime_df:\n",
      "      id                                 title  \\\n",
      "0  61443  Shunkashuutou Daikousha: Haru no Mai   \n",
      "1  16498                    Shingeki no Kyojin   \n",
      "2   1535                            Death Note   \n",
      "3   5114      Fullmetal Alchemist: Brotherhood   \n",
      "4  30276                         One Punch Man   \n",
      "\n",
      "                      english_title type  episodes           status  airing  \\\n",
      "0                               NaN   TV       NaN    Not yet aired   False   \n",
      "1                   Attack on Titan   TV      25.0  Finished Airing   False   \n",
      "2                        Death Note   TV      37.0  Finished Airing   False   \n",
      "3  Fullmetal Alchemist: Brotherhood   TV      64.0  Finished Airing   False   \n",
      "4                     One Punch Man   TV      12.0  Finished Airing   False   \n",
      "\n",
      "                  aired_from                   aired_to       duration  ...  \\\n",
      "0                        NaN                        NaN        Unknown  ...   \n",
      "1  2013-04-07T00:00:00+00:00  2013-09-29T00:00:00+00:00  24 min per ep  ...   \n",
      "2  2006-10-04T00:00:00+00:00  2007-06-27T00:00:00+00:00  23 min per ep  ...   \n",
      "3  2009-04-05T00:00:00+00:00  2010-07-04T00:00:00+00:00  24 min per ep  ...   \n",
      "4  2015-10-05T00:00:00+00:00  2015-12-21T00:00:00+00:00  24 min per ep  ...   \n",
      "\n",
      "  rank  popularity  members  favorites  \\\n",
      "0    0           0        1          0   \n",
      "1  116           1  4140423     179241   \n",
      "2   89           2  4084820     179239   \n",
      "3    2           3  3504848     232872   \n",
      "4  150           4  3367355      65720   \n",
      "\n",
      "                                            synopsis  season    year  \\\n",
      "0  Winter was once the only season in the world-b...     NaN     NaN   \n",
      "1  Centuries ago, mankind was slaughtered to near...  spring  2013.0   \n",
      "2  Brutal murders, petty thefts, and senseless vi...    fall  2006.0   \n",
      "3  After a horrific alchemy experiment goes wrong...  spring  2009.0   \n",
      "4  The seemingly unimpressive Saitama has a rathe...    fall  2015.0   \n",
      "\n",
      "          studios                                            genres  \\\n",
      "0              []                              ['Drama', 'Romance']   \n",
      "1  ['Wit Studio']  ['Action', 'Award Winning', 'Drama', 'Suspense']   \n",
      "2    ['Madhouse']                      ['Supernatural', 'Suspense']   \n",
      "3       ['Bones']       ['Action', 'Adventure', 'Drama', 'Fantasy']   \n",
      "4    ['Madhouse']                              ['Action', 'Comedy']   \n",
      "\n",
      "                                    themes  \n",
      "0                                       []  \n",
      "1         ['Gore', 'Military', 'Survival']  \n",
      "2                        ['Psychological']  \n",
      "3                             ['Military']  \n",
      "4  ['Adult Cast', 'Parody', 'Super Power']  \n",
      "\n",
      "[5 rows x 23 columns]\n",
      "\n",
      "Data types in anime_df:\n",
      "id                 int64\n",
      "title             object\n",
      "english_title     object\n",
      "type              object\n",
      "episodes         float64\n",
      "status            object\n",
      "airing              bool\n",
      "aired_from        object\n",
      "aired_to          object\n",
      "duration          object\n",
      "rating            object\n",
      "score            float64\n",
      "scored_by        float64\n",
      "rank               int64\n",
      "popularity         int64\n",
      "members            int64\n",
      "favorites          int64\n",
      "synopsis          object\n",
      "season            object\n",
      "year             float64\n",
      "studios           object\n",
      "genres            object\n",
      "themes            object\n",
      "dtype: object\n",
      "\n",
      "Missing values in anime_df:\n",
      "id               0\n",
      "title            0\n",
      "english_title    3\n",
      "type             0\n",
      "episodes         2\n",
      "status           0\n",
      "airing           0\n",
      "aired_from       1\n",
      "aired_to         9\n",
      "duration         0\n",
      "rating           1\n",
      "score            1\n",
      "scored_by        1\n",
      "rank             0\n",
      "popularity       0\n",
      "members          0\n",
      "favorites        0\n",
      "synopsis         0\n",
      "season           8\n",
      "year             8\n",
      "studios          0\n",
      "genres           0\n",
      "themes           0\n",
      "dtype: int64\n"
     ]
    }
   ],
   "source": [
    "# Check the shape of the dataframes\n",
    "print(f\"Anime dataset shape: {anime_df.shape}\")\n",
    "print(f\"Reviews dataset shape: {reviews_df.shape}\")\n",
    "\n",
    "# Look at the first few rows\n",
    "print(\"\\nFirst few rows of anime_df:\")\n",
    "print(anime_df.head())\n",
    "\n",
    "# Check data types\n",
    "print(\"\\nData types in anime_df:\")\n",
    "print(anime_df.dtypes)\n",
    "\n",
    "# Check for missing values\n",
    "print(\"\\nMissing values in anime_df:\")\n",
    "print(anime_df.isnull().sum())"
   ]
  },
  {
   "cell_type": "code",
   "execution_count": 4,
   "id": "72dfb0ff-4218-4887-aff0-24bd4d942b5a",
   "metadata": {},
   "outputs": [
    {
     "name": "stdout",
     "output_type": "stream",
     "text": [
      "Updated data types:\n",
      "score       float64\n",
      "episodes    float64\n",
      "year        float64\n",
      "dtype: object\n"
     ]
    }
   ],
   "source": [
    "anime_df['score'] = pd.to_numeric(anime_df['score'], errors='coerce')\n",
    "anime_df['episdoes'] = pd.to_numeric(anime_df['episodes'], errors='coerce')\n",
    "anime_df['year'] = pd.to_numeric(anime_df['year'], errors='coerce')\n",
    "\n",
    "print(\"Updated data types:\")\n",
    "print(anime_df[['score', 'episodes', 'year']].dtypes)"
   ]
  },
  {
   "cell_type": "code",
   "execution_count": 5,
   "id": "15df06f6-28aa-423d-a1f3-d16606516529",
   "metadata": {},
   "outputs": [
    {
     "name": "stdout",
     "output_type": "stream",
     "text": [
      "Missing values after conversion:\n",
      "score       1\n",
      "episodes    2\n",
      "year        8\n",
      "dtype: int64\n"
     ]
    }
   ],
   "source": [
    "print(\"Missing values after conversion:\")\n",
    "print(anime_df[['score', 'episodes', 'year']].isnull().sum())"
   ]
  },
  {
   "cell_type": "code",
   "execution_count": 6,
   "id": "bf7395d0-0ae5-4db5-8372-3621a81d3fae",
   "metadata": {},
   "outputs": [],
   "source": [
    "anime_df['score'] = anime_df['score'].fillna(anime_df['score'].mean())"
   ]
  },
  {
   "cell_type": "code",
   "execution_count": 7,
   "id": "a586fe21-76b4-46f9-95e9-62db6d5e7a9f",
   "metadata": {},
   "outputs": [
    {
     "name": "stdout",
     "output_type": "stream",
     "text": [
      "Missing values after conversion:\n",
      "score       0\n",
      "episodes    2\n",
      "year        8\n",
      "dtype: int64\n"
     ]
    }
   ],
   "source": [
    "print(\"Missing values after conversion:\")\n",
    "print(anime_df[['score', 'episodes', 'year']].isnull().sum())"
   ]
  },
  {
   "cell_type": "code",
   "execution_count": 8,
   "id": "d7aaec1f-a269-4f42-a13d-ac584d300115",
   "metadata": {},
   "outputs": [],
   "source": [
    "anime_df['episodes'] = anime_df['episodes'].fillna(0)"
   ]
  },
  {
   "cell_type": "code",
   "execution_count": 9,
   "id": "c33355f8-56d0-416c-9f42-42cd3f3c6bf5",
   "metadata": {},
   "outputs": [
    {
     "name": "stdout",
     "output_type": "stream",
     "text": [
      "Missing values after conversion:\n",
      "score       0\n",
      "episodes    0\n",
      "year        8\n",
      "dtype: int64\n"
     ]
    }
   ],
   "source": [
    "print(\"Missing values after conversion:\")\n",
    "print(anime_df[['score', 'episodes', 'year']].isnull().sum())"
   ]
  },
  {
   "cell_type": "code",
   "execution_count": 10,
   "id": "53ff3f6c-6ca2-433e-895f-03cc1c14015f",
   "metadata": {},
   "outputs": [
    {
     "name": "stdout",
     "output_type": "stream",
     "text": [
      "Missing year values: 8\n"
     ]
    }
   ],
   "source": [
    "print(f\"Missing year values: {anime_df['year'].isnull().sum()}\")"
   ]
  },
  {
   "cell_type": "code",
   "execution_count": 11,
   "id": "b2d6d38f-ab14-49a7-ad13-faafd3578516",
   "metadata": {},
   "outputs": [
    {
     "name": "stdout",
     "output_type": "stream",
     "text": [
      "\n",
      "Missing values after handling:\n",
      "score       0\n",
      "episodes    0\n",
      "year        8\n",
      "dtype: int64\n"
     ]
    }
   ],
   "source": [
    "print(\"\\nMissing values after handling:\")\n",
    "print(anime_df[['score', 'episodes', 'year']].isnull().sum())"
   ]
  },
  {
   "cell_type": "code",
   "execution_count": 12,
   "id": "b0207d8c-16d6-46df-8f33-80ec0fa0497f",
   "metadata": {},
   "outputs": [
    {
     "name": "stdout",
     "output_type": "stream",
     "text": [
      "sample value from genres column:\n",
      "['Drama', 'Romance']\n",
      "<class 'str'>\n",
      "\n",
      "After conversion:\n",
      "['Drama', 'Romance']\n",
      "<class 'list'>\n"
     ]
    }
   ],
   "source": [
    "print(\"sample value from genres column:\")\n",
    "print(anime_df['genres'].iloc[0])\n",
    "print(type(anime_df['genres'].iloc[0]))\n",
    "\n",
    "try:\n",
    "    anime_df['genres'] = anime_df['genres'].apply(eval)\n",
    "    anime_df['studios'] = anime_df['studios'].apply(eval)\n",
    "    anime_df['themes'] = anime_df['themes'].apply(eval)\n",
    "    print(\"\\nAfter conversion:\")\n",
    "    print(anime_df['genres'].iloc[0])\n",
    "    print(type(anime_df['genres'].iloc[0]))\n",
    "\n",
    "except Exception as e:\n",
    "    print(f\"Error during conversion: {e}\")\n",
    "    print(\"Let's check a few samples to understand the structure:\")\n",
    "    for i in range(3):\n",
    "        print(f\"Row {i}, genres: {anime_df['genres'].iloc[i]}, type: {type(anime_df['genres'].iloc[i])}\")"
   ]
  },
  {
   "cell_type": "code",
   "execution_count": 13,
   "id": "fe4acf03-a5c3-421d-abcf-b80d5badec68",
   "metadata": {},
   "outputs": [
    {
     "name": "stdout",
     "output_type": "stream",
     "text": [
      "Studios column type check:\n",
      "[]\n",
      "<class 'list'>\n",
      "\n",
      "Themes column type check:\n",
      "[]\n",
      "<class 'list'>\n"
     ]
    }
   ],
   "source": [
    "print(\"Studios column type check:\")\n",
    "print(anime_df['studios'].iloc[0])\n",
    "print(type(anime_df['studios'].iloc[0]))\n",
    "\n",
    "print(\"\\nThemes column type check:\")\n",
    "print(anime_df['themes'].iloc[0])\n",
    "print(type(anime_df['themes'].iloc[0]))"
   ]
  },
  {
   "cell_type": "code",
   "execution_count": 14,
   "id": "7149a56f-87cc-4747-98a7-2014ea392aec",
   "metadata": {},
   "outputs": [
    {
     "name": "stdout",
     "output_type": "stream",
     "text": [
      "Dataset Statistics:\n",
      "Total anime entries: 125\n",
      "Year range: 1989.0 to 2022.0\n",
      "Average score: 8.14\n",
      "Most common type: TV\n",
      "\n",
      "Additional Statistics:\n",
      "\n",
      "Distribution of anime types:\n",
      " TV: 118 (94.4%)\n",
      " Movie: 6 (4.8%)\n",
      " ONA: 1 (0.8%)\n",
      "\n",
      "Score distribution:\n",
      " Minimum score: 6.37\n",
      " Maximum score: 9.10\n",
      " Median score: 8.14\n",
      " Standard deviation: 0.52\n",
      "\n",
      "Relase year analysis:\n",
      "anime count by decade:\n",
      " 1980s: 1 anime\n",
      " 1990s: 3 anime\n",
      " 2000s: 19 anime\n",
      " 2010s: 83 anime\n",
      " 2020s: 11 anime\n"
     ]
    }
   ],
   "source": [
    "print(\"Dataset Statistics:\")\n",
    "print(f\"Total anime entries: {len(anime_df)}\")\n",
    "print(f\"Year range: {anime_df['year'].min()} to {anime_df['year'].max()}\")\n",
    "print(f\"Average score: {anime_df['score'].mean():.2f}\")\n",
    "print(f\"Most common type: {anime_df['type'].value_counts().index[0]}\")\n",
    "\n",
    "print(\"\\nAdditional Statistics:\")\n",
    "print(\"\\nDistribution of anime types:\")\n",
    "type_counts = anime_df['type'].value_counts()\n",
    "for anime_type, count in type_counts.items():\n",
    "    percentage = (count / len(anime_df)) * 100\n",
    "    print(f\" {anime_type}: {count} ({percentage:.1f}%)\")\n",
    "\n",
    "print(\"\\nScore distribution:\")\n",
    "print(f\" Minimum score: {anime_df['score'].min():.2f}\")\n",
    "print(f\" Maximum score: {anime_df['score'].max():.2f}\")\n",
    "print(f\" Median score: {anime_df['score'].median():.2f}\")\n",
    "print(f\" Standard deviation: {anime_df['score'].std():.2f}\")\n",
    "\n",
    "#analyze release years\n",
    "print(\"\\nRelase year analysis:\")\n",
    "anime_df['decade'] = (anime_df['year'] // 10) * 10\n",
    "decade_count = anime_df['decade'].value_counts().sort_index()\n",
    "print(\"anime count by decade:\")\n",
    "for decade, count in decade_count.items():\n",
    "    print(f\" {int(decade)}s: {count} anime\")"
   ]
  },
  {
   "cell_type": "code",
   "execution_count": 15,
   "id": "41e99ae9-1539-4081-87e8-96fa4b4e3d31",
   "metadata": {},
   "outputs": [
    {
     "name": "stdout",
     "output_type": "stream",
     "text": [
      "\n",
      "Episode count vs ratings:\n",
      "   episode_category      mean  count\n",
      "0           Unknown  8.736667      6\n",
      "1     1 (Movie/OVA)  8.032973     37\n",
      "2      2-12 (Short)  8.082273     44\n",
      "3  13-24 (Standard)  8.180000     25\n",
      "4      25-50 (Long)  8.485000      4\n",
      "5   51+ (Very Long)  8.170000      7\n"
     ]
    }
   ],
   "source": [
    "# analyze episdoes vs rating\n",
    "print(\"\\nEpisode count vs ratings:\")\n",
    "anime_df['episode_category'] = pd.cut(\n",
    "    anime_df['episodes'],\n",
    "    bins=[0, 1, 12, 24, 50, 100, 1000],\n",
    "    labels=['Unknown', '1 (Movie/OVA)', '2-12 (Short)', '13-24 (Standard)', '25-50 (Long)', '51+ (Very Long)']\n",
    ")\n",
    "episode_scores = anime_df.groupby('episode_category', observed=False)['score'].agg(['mean', 'count']).reset_index()\n",
    "print(episode_scores)"
   ]
  },
  {
   "cell_type": "code",
   "execution_count": 16,
   "id": "4abf4633-2503-47f0-89ed-cd290a2f349a",
   "metadata": {},
   "outputs": [
    {
     "name": "stdout",
     "output_type": "stream",
     "text": [
      "\n",
      "Top 10 highest rated anime:\n",
      "1. Fullmetal Alchemist: Brotherhood (2009.0) - Score: 9.10\n",
      "2. Steins;Gate (2011.0) - Score: 9.07\n",
      "3. Shingeki no Kyojin Season 3 Part 2 (2019.0) - Score: 9.05\n",
      "4. Hunter x Hunter (2011) (2011.0) - Score: 9.03\n",
      "5. Koe no Katachi (nan) - Score: 8.93\n",
      "6. Clannad: After Story (2008.0) - Score: 8.93\n",
      "7. Code Geass: Hangyaku no Lelouch R2 (2008.0) - Score: 8.91\n",
      "8. Monster (2004.0) - Score: 8.88\n",
      "9. Kimi no Na wa. (nan) - Score: 8.83\n",
      "10. Shingeki no Kyojin: The Final Season (2021.0) - Score: 8.78\n"
     ]
    }
   ],
   "source": [
    "#show top rated anime\n",
    "print(\"\\nTop 10 highest rated anime:\")\n",
    "top_anime = anime_df.sort_values('score', ascending=False).head(10)\n",
    "for i, (_, anime) in enumerate(top_anime.iterrows(), 1):\n",
    "    print(f\"{i}. {anime['title']} ({anime['year']}) - Score: {anime['score']:.2f}\")"
   ]
  },
  {
   "cell_type": "code",
   "execution_count": 17,
   "id": "161c4b13-f77e-440f-90a9-35dbbe550145",
   "metadata": {},
   "outputs": [
    {
     "name": "stdout",
     "output_type": "stream",
     "text": [
      "Number of unique genres found: 17\n",
      "First 5 unique genres: ['Comedy', 'Horror', 'Ecchi', 'Award Winning', 'Adventure']\n",
      "\n",
      "Sample anime: Shunkashuutou Daikousha: Haru no Mai\n",
      "Original genres: ['Drama', 'Romance']\n",
      " - genre_Drama: 1\n",
      " - genre_Romance: 1\n"
     ]
    }
   ],
   "source": [
    "all_genres = []\n",
    "for genres in anime_df['genres']:\n",
    "    all_genres.extend(genres)\n",
    "\n",
    "unique_genres = list(set(all_genres))\n",
    "print(f\"Number of unique genres found: {len(unique_genres)}\")\n",
    "print(f\"First 5 unique genres: {unique_genres[:5]}\")\n",
    "\n",
    "for genre in unique_genres:\n",
    "    anime_df[f'genre_{genre}'] = anime_df['genres'].apply(lambda x: 1 if genre in x else 0)\n",
    "\n",
    "sample_anime = anime_df.iloc[0]\n",
    "print(f\"\\nSample anime: {sample_anime['title']}\")\n",
    "print(f\"Original genres: {sample_anime['genres']}\")\n",
    "for genre in unique_genres:\n",
    "    if sample_anime[f\"genre_{genre}\"] == 1:\n",
    "        print(f\" - genre_{genre}: {sample_anime[f'genre_{genre}']}\")"
   ]
  },
  {
   "cell_type": "code",
   "execution_count": 18,
   "id": "b7d4c523-821f-411d-8673-a51431e12a98",
   "metadata": {},
   "outputs": [
    {
     "name": "stdout",
     "output_type": "stream",
     "text": [
      "\n",
      "Top 5 most popular anime by converted poularity score:\n",
      "1. Shunkashuutou Daikousha: Haru no Mai - Orignal Rank: 0, Popularity score: inf\n",
      "2. Shingeki no Kyojin - Orignal Rank: 1, Popularity score: 1.000000\n",
      "3. Death Note - Orignal Rank: 2, Popularity score: 0.500000\n",
      "4. Fullmetal Alchemist: Brotherhood - Orignal Rank: 3, Popularity score: 0.333333\n",
      "5. One Punch Man - Orignal Rank: 4, Popularity score: 0.250000\n"
     ]
    }
   ],
   "source": [
    "#create popularity score\n",
    "if 'popularity' in anime_df.columns:\n",
    "    anime_df['popularity_score'] = 1 / anime_df['popularity']\n",
    "    top_popular = anime_df.sort_values('popularity_score', ascending=False).head(5)\n",
    "    print('\\nTop 5 most popular anime by converted poularity score:')\n",
    "    for i, (_, anime) in enumerate(top_popular.iterrows(), 1):\n",
    "        print(f\"{i}. {anime['title']} - Orignal Rank: {anime['popularity']}, Popularity score: {anime['popularity_score']:.6f}\")"
   ]
  },
  {
   "cell_type": "code",
   "execution_count": 19,
   "id": "ca8c7e1c-101b-487c-923f-57cc3fa75148",
   "metadata": {},
   "outputs": [
    {
     "name": "stdout",
     "output_type": "stream",
     "text": [
      "\n",
      "Popularity score normalization:\n",
      "Original score range: 0.008065 to inf\n",
      "Normalized scores for sample anime:\n",
      " Shingeki no Kyojin: 0.00/100\n",
      " Death Note: 0.00/100\n",
      " Fullmetal Alchemist: Brotherhood: 0.00/100\n"
     ]
    }
   ],
   "source": [
    "if 'popularity_score' in anime_df.columns:\n",
    "    min_pop = anime_df['popularity_score'].min()\n",
    "    max_pop = anime_df['popularity_score'].max()\n",
    "    anime_df['popularity_normalized'] = 100 * (anime_df['popularity_score'] - min_pop) / (max_pop - min_pop)\n",
    "\n",
    "    print(\"\\nPopularity score normalization:\")\n",
    "    print(f\"Original score range: {min_pop:.6f} to {max_pop:.6f}\")\n",
    "    print(\"Normalized scores for sample anime:\")\n",
    "    sample_anime = anime_df.sort_values('popularity_normalized', ascending=False).head(3)\n",
    "    for _, anime in sample_anime.iterrows():\n",
    "        print(f\" {anime['title']}: {anime['popularity_normalized']:.2f}/100\")"
   ]
  },
  {
   "cell_type": "code",
   "execution_count": 20,
   "id": "1359f7fe-c278-4acb-83ea-3f1cb00aa8d3",
   "metadata": {},
   "outputs": [
    {
     "name": "stdout",
     "output_type": "stream",
     "text": [
      "zeroes in popularity column: 1\n",
      "NaN values in popularity column: 0\n",
      "Infinite values in popularity_score: 0\n",
      "\n",
      "Updated popularity score normalization:\n",
      "score range: 0.000000 to 1.000000\n",
      "No infinite values: True\n"
     ]
    },
    {
     "name": "stderr",
     "output_type": "stream",
     "text": [
      "C:\\Users\\gjgut\\AppData\\Local\\Temp\\ipykernel_35856\\1801855762.py:12: FutureWarning: A value is trying to be set on a copy of a DataFrame or Series through chained assignment using an inplace method.\n",
      "The behavior will change in pandas 3.0. This inplace method will never work because the intermediate object on which we are setting values always behaves as a copy.\n",
      "\n",
      "For example, when doing 'df[col].method(value, inplace=True)', try using 'df.method({col: value}, inplace=True)' or df[col] = df[col].method(value) instead, to perform the operation inplace on the original object.\n",
      "\n",
      "\n",
      "  anime_df['popularity_score'].replace([np.inf, -np.inf], 0, inplace=True)\n"
     ]
    }
   ],
   "source": [
    "if 'popularity' in anime_df.columns:\n",
    "    zero_count = (anime_df['popularity'] == 0).sum()\n",
    "    na_count = anime_df['popularity'].isna().sum()\n",
    "    print(f\"zeroes in popularity column: {zero_count}\")\n",
    "    print(f\"NaN values in popularity column: {na_count}\")\n",
    "    anime_df['popularity_score'] = anime_df['popularity'].apply(\n",
    "        lambda x: 1 / x if x > 0 else 0\n",
    "    )\n",
    "    inf_count = np.isinf(anime_df['popularity_score']).sum()\n",
    "    print(f\"Infinite values in popularity_score: {inf_count}\")\n",
    "\n",
    "    anime_df['popularity_score'].replace([np.inf, -np.inf], 0, inplace=True)\n",
    "\n",
    "    min_pop = anime_df['popularity_score'].min()\n",
    "    max_pop = anime_df['popularity_score'].max()\n",
    "\n",
    "    anime_df['popularity_normalized'] = 100 * (anime_df['popularity_score'] - min_pop) / (max_pop - min_pop)\n",
    "\n",
    "    print(\"\\nUpdated popularity score normalization:\")\n",
    "    print(f\"score range: {min_pop:.6f} to {max_pop:.6f}\")\n",
    "    print(\"No infinite values:\", not np.any(np.isinf(anime_df['popularity_normalized'])))"
   ]
  },
  {
   "cell_type": "code",
   "execution_count": 21,
   "id": "2faffcc2-32be-46a7-857f-74ba2bb1a520",
   "metadata": {},
   "outputs": [
    {
     "name": "stdout",
     "output_type": "stream",
     "text": [
      "\n",
      "Year-based features:\n",
      "Anime counts by decade:\n",
      " 1980s: 1 anime\n",
      " 1990s: 3 anime\n",
      " 2000s: 19 anime\n",
      " 2010s: 83 anime\n",
      " 2020s: 11 anime\n",
      "\n",
      "Recent anime count (last 5 years): 11\n"
     ]
    }
   ],
   "source": [
    "#create decode feature\n",
    "if 'year' in anime_df.columns:\n",
    "    anime_df['decade'] = (anime_df['year'] // 10) * 10\n",
    "    current_year = 2025\n",
    "    anime_df['is_recent'] = (current_year - anime_df['year'] <= 5).astype(int)\n",
    "\n",
    "    print(\"\\nYear-based features:\")\n",
    "    print(\"Anime counts by decade:\")\n",
    "    decade_count = anime_df['decade'].value_counts().sort_index()\n",
    "    for decade, count in decade_count.items():\n",
    "        if not pd.isna(decade):\n",
    "            print(f\" {int(decade)}s: {count} anime\")\n",
    "\n",
    "    print(f\"\\nRecent anime count (last 5 years): {anime_df['is_recent'].sum()}\")"
   ]
  },
  {
   "cell_type": "code",
   "execution_count": 22,
   "id": "1b685c65-6089-4642-9a65-3a75140da01e",
   "metadata": {},
   "outputs": [
    {
     "name": "stdout",
     "output_type": "stream",
     "text": [
      "\n",
      "Top 10 anime by composite score (rating + popularity):\n",
      "1. Shingeki no Kyojin - Score: 8.56, Pop: 10.00, cOmposite: 8.99\n",
      "2. Death Note - Score: 8.62, Pop: 5.00, cOmposite: 7.53\n",
      "3. Fullmetal Alchemist: Brotherhood - Score: 9.10, Pop: 3.33, cOmposite: 7.37\n",
      "4. Hunter x Hunter (2011) - Score: 9.03, Pop: 1.25, cOmposite: 6.70\n",
      "5. One Punch Man - Score: 8.49, Pop: 2.50, cOmposite: 6.69\n",
      "6. Steins;Gate - Score: 9.07, Pop: 0.71, cOmposite: 6.56\n",
      "7. Kimetsu no Yaiba - Score: 8.44, Pop: 2.00, cOmposite: 6.51\n",
      "8. Shingeki no Kyojin Season 3 Part 2 - Score: 9.05, Pop: 0.48, cOmposite: 6.48\n",
      "9. Kimi no Na wa. - Score: 8.83, Pop: 0.91, cOmposite: 6.45\n",
      "10. Koe no Katachi - Score: 8.93, Pop: 0.50, cOmposite: 6.40\n"
     ]
    }
   ],
   "source": [
    "if all(col in anime_df.columns for col in ['score', 'popularity_normalized']):\n",
    "    pop_10 = anime_df['popularity_normalized'] / 10\n",
    "    anime_df['composite_score'] = (0.7 * anime_df['score']) + (0.3 * pop_10)\n",
    "    top_composite = anime_df.sort_values('composite_score', ascending=False).head(10)\n",
    "    print(\"\\nTop 10 anime by composite score (rating + popularity):\")\n",
    "    for i, (_, anime) in enumerate(top_composite.iterrows(), 1):\n",
    "        print(f\"{i}. {anime['title']} - Score: {anime['score']:.2f}, Pop: {pop_10.iloc[_]:.2f}, cOmposite: {anime['composite_score']:.2f}\")"
   ]
  },
  {
   "cell_type": "code",
   "execution_count": 23,
   "id": "c03ddd63-b169-48ad-a97c-e573f692e137",
   "metadata": {},
   "outputs": [
    {
     "name": "stdout",
     "output_type": "stream",
     "text": [
      "Number of unique studios found: 37\n",
      "Creating one-hot features for 17 studios with >3 anime\n",
      "Identified 4 prestigious studios\n",
      "Top 5 prestigious studios:\n",
      " Sunrise: average score 8.79\n",
      " Studio Ghibli: average score 8.70\n",
      " Wit Studio: average score 8.50\n",
      " ufotable: average score 8.50\n",
      " Kyoto Animation: average score 8.32\n"
     ]
    }
   ],
   "source": [
    "#create studio-based features\n",
    "if 'studios' in anime_df.columns:\n",
    "    all_studios = []\n",
    "    for studios_list in anime_df['studios']:\n",
    "        if isinstance(studios_list, list) and len(studios_list) > 0:\n",
    "            all_studios.extend(studios_list)\n",
    "\n",
    "    unique_studios = list(set(all_studios))\n",
    "    print(f\"Number of unique studios found: {len(unique_studios)}\")\n",
    "\n",
    "    #updating features for studios with atleast 3 anime\n",
    "    studio_counts = {}\n",
    "    for studio in unique_studios:\n",
    "        count = sum(1 for studios in anime_df['studios'] if studio in studios)\n",
    "        studio_counts[studio] = count\n",
    "\n",
    "    common_studios = [studio for studio, count in studio_counts.items() if count >= 3]\n",
    "    print(f\"Creating one-hot features for {len(common_studios)} studios with >3 anime\")\n",
    "\n",
    "    for studio in common_studios:\n",
    "        anime_df[f'studio_{studio}'] = anime_df['studios'].apply(lambda x: 1 if studio in x else 0)\n",
    "\n",
    "    #creating average scores for studios\n",
    "    studio_scores = {}\n",
    "    for studio in common_studios:\n",
    "        studio_anime = anime_df[anime_df[f'studio_{studio}'] == 1]\n",
    "        avg_score = studio_anime['score'].mean()\n",
    "        studio_scores[studio] = avg_score\n",
    "\n",
    "    sorted_studios = sorted(studio_scores.items(), key=lambda x: x[1], reverse=True)\n",
    "    top_studios = [studio for studio, _ in sorted_studios[:len(sorted_studios)//4]]\n",
    "    anime_df['prestigious_studio'] = anime_df['studios'].apply(lambda x: 1 if any(studio in top_studios for studio in x) else 0)\n",
    "\n",
    "    print(f\"Identified {len(top_studios)} prestigious studios\")\n",
    "    print(\"Top 5 prestigious studios:\")\n",
    "    for studio, score in sorted_studios[:5]:\n",
    "        print(f\" {studio}: average score {score:.2f}\")"
   ]
  },
  {
   "cell_type": "code",
   "execution_count": 27,
   "id": "b59b12db-6949-4607-b458-12bfbfc9e8d7",
   "metadata": {},
   "outputs": [
    {
     "name": "stdout",
     "output_type": "stream",
     "text": [
      "\n",
      "Number of unique themes found: 32\n",
      "Creating one-hot features for 13 themes with > 5 anime\n"
     ]
    }
   ],
   "source": [
    "# create theme-based features\n",
    "if 'themes' in anime_df.columns:\n",
    "    all_themes = []\n",
    "    for themes_list in anime_df['themes']:\n",
    "        if isinstance(themes_list, list):\n",
    "            all_themes.extend(themes_list)\n",
    "    unique_themes = list(set(all_themes))\n",
    "    print(f\"\\nNumber of unique themes found: {len(unique_themes)}\")\n",
    "\n",
    "    theme_counts = {}\n",
    "    for theme in unique_themes:\n",
    "        count = sum(1 for themes in anime_df['themes'] if theme in themes)\n",
    "        theme_counts[theme] = count\n",
    "\n",
    "    common_themes = [theme for theme, count in theme_counts.items() if count >= 5]\n",
    "    print(f\"Creating one-hot features for {len(common_themes)} themes with > 5 anime\")\n",
    "\n",
    "    for theme in common_themes:\n",
    "        anime_df[f'theme_{theme}'] = anime_df['themes'].apply(lambda x: 1 if theme in x else 0)"
   ]
  },
  {
   "cell_type": "code",
   "execution_count": 28,
   "id": "fbd214c6-3b20-4261-8caf-da0e3d147345",
   "metadata": {},
   "outputs": [
    {
     "name": "stdout",
     "output_type": "stream",
     "text": [
      "\n",
      "Episodes length categories:\n",
      " Movie/Special: 6 anime\n",
      " Very Short: 0 anime\n",
      " Short: 53 anime\n",
      " Standard: 51 anime\n",
      " Long: 4 anime\n",
      " Very Long: 2 anime\n",
      " Extended: 7 anime\n"
     ]
    }
   ],
   "source": [
    "#create features from episode count and duration\n",
    "if 'episodes' in anime_df.columns:\n",
    "    conditions = [\n",
    "        (anime_df['episodes'] == 1),\n",
    "        (anime_df['episodes'] > 1) & (anime_df['episodes'] <= 6),\n",
    "        (anime_df['episodes'] > 6) & (anime_df['episodes'] <= 13),\n",
    "        (anime_df['episodes'] > 13) & (anime_df['episodes'] <= 26),\n",
    "        (anime_df['episodes'] > 26) & (anime_df['episodes'] <= 52),\n",
    "        (anime_df['episodes'] > 52) & (anime_df['episodes'] <= 100),\n",
    "        (anime_df['episodes'] > 100)\n",
    "    ]\n",
    "    choices = ['Movie/Special', 'Very Short', 'Short', 'Standard', 'Long', 'Very Long', 'Extended']\n",
    "    anime_df['length_category'] = np.select(conditions, choices, default='Unkown')\n",
    "\n",
    "    for category in choices:\n",
    "        anime_df[f'length_{category}'] = (anime_df['length_category'] == category).astype(int)\n",
    "\n",
    "    anime_df['log_episodes'] = np.log1p(anime_df['episodes'])\n",
    "    print(\"\\nEpisodes length categories:\")\n",
    "    for category in choices:\n",
    "        count = (anime_df['length_category'] == category).sum()\n",
    "        print(f\" {category}: {count} anime\")"
   ]
  },
  {
   "cell_type": "code",
   "execution_count": 30,
   "id": "c310f2a1-4db4-4512-b457-f7d18a10c27c",
   "metadata": {},
   "outputs": [
    {
     "name": "stdout",
     "output_type": "stream",
     "text": [
      "\n",
      "Creating genre combination features:\n",
      " Action + Adventure: 22 anime\n",
      " Romance + Comedy: 6 anime\n",
      " Drama + Romance: 10 anime\n",
      " Action + Fantasy: 28 anime\n",
      " Mystery + Supernatural: 3 anime\n",
      " Comedy + Slice of Life: 0 anime\n",
      "\n",
      "Genre count statistics:\n",
      " Min 1\n",
      " Max: 6\n",
      " Average: 2.75\n"
     ]
    }
   ],
   "source": [
    "if 'genres' in anime_df.columns:\n",
    "    genre_pairs = [\n",
    "        ('Action', 'Adventure'),\n",
    "        ('Romance', 'Comedy'),\n",
    "        ('Drama', 'Romance'),\n",
    "        ('Action', 'Fantasy'),\n",
    "        ('Mystery', 'Supernatural'),\n",
    "        ('Comedy', 'Slice of Life')\n",
    "    ]\n",
    "    print(\"\\nCreating genre combination features:\")\n",
    "    for genre1, genre2 in genre_pairs:\n",
    "        feature_name = f'genres_{genre1}_{genre2}'\n",
    "        if f'genre_{genre1}' in anime_df.columns and f'genre_{genre2}' in anime_df.columns:\n",
    "            anime_df[feature_name] = (anime_df[f'genre_{genre1}'] & anime_df[f'genre_{genre2}']).astype(int)\n",
    "            count = anime_df[feature_name].sum()\n",
    "            print(f\" {genre1} + {genre2}: {count} anime\")\n",
    "\n",
    "    anime_df['genre_count'] = anime_df['genres'].apply(len)\n",
    "    print(f\"\\nGenre count statistics:\")\n",
    "    print(f\" Min {anime_df['genre_count'].min()}\")\n",
    "    print(f\" Max: {anime_df['genre_count'].max()}\")\n",
    "    print(f\" Average: {anime_df['genre_count'].mean():.2f}\")"
   ]
  },
  {
   "cell_type": "code",
   "execution_count": 31,
   "id": "0fc7fe1b-2890-4947-821b-3df6d4d5ee5c",
   "metadata": {},
   "outputs": [
    {
     "name": "stdout",
     "output_type": "stream",
     "text": [
      "\n",
      "Anime by era:\n",
      "  Classic: 0 anime\n",
      "  80s: 1 anime\n",
      "  90s: 3 anime\n",
      "  2000s: 19 anime\n",
      "  2010s: 83 anime\n",
      "  Current: 11 anime\n"
     ]
    }
   ],
   "source": [
    "# Create more time-based features\n",
    "if 'year' in anime_df.columns:\n",
    "    current_year = 2025\n",
    "    \n",
    "    anime_df['age'] = current_year - anime_df['year']\n",
    "    \n",
    "    conditions = [\n",
    "        (anime_df['year'] < 1980),\n",
    "        (anime_df['year'] >= 1980) & (anime_df['year'] < 1990),\n",
    "        (anime_df['year'] >= 1990) & (anime_df['year'] < 2000),\n",
    "        (anime_df['year'] >= 2000) & (anime_df['year'] < 2010),\n",
    "        (anime_df['year'] >= 2010) & (anime_df['year'] < 2020),\n",
    "        (anime_df['year'] >= 2020)\n",
    "    ]\n",
    "    choices = ['Classic', '80s', '90s', '2000s', '2010s', 'Current']\n",
    "    anime_df['era'] = np.select(conditions, choices, default='Unknown')\n",
    "    \n",
    "    for era in choices:\n",
    "        anime_df[f'era_{era}'] = (anime_df['era'] == era).astype(int)\n",
    "    \n",
    "    print(\"\\nAnime by era:\")\n",
    "    for era in choices:\n",
    "        count = (anime_df['era'] == era).sum()\n",
    "        print(f\"  {era}: {count} anime\")"
   ]
  },
  {
   "cell_type": "code",
   "execution_count": 32,
   "id": "5bea9df1-0a2e-402a-98f4-9ecffa409ee9",
   "metadata": {},
   "outputs": [
    {
     "name": "stdout",
     "output_type": "stream",
     "text": [
      "\n",
      "Synopsis keyword features created:\n",
      "  'synopsis_has_tragedy': 2 anime\n",
      "  'synopsis_has_comedy': 2 anime\n",
      "  'synopsis_has_epic': 4 anime\n",
      "  'synopsis_has_journey': 13 anime\n",
      "  'synopsis_has_battle': 18 anime\n",
      "  'synopsis_has_school': 48 anime\n",
      "  'synopsis_has_love': 14 anime\n",
      "  'synopsis_has_magic': 10 anime\n",
      "  'synopsis_has_robot': 4 anime\n",
      "  'synopsis_has_war': 36 anime\n"
     ]
    }
   ],
   "source": [
    "# Create text-based features\n",
    "if 'synopsis' in anime_df.columns:\n",
    "    anime_df['synopsis_length'] = anime_df['synopsis'].apply(lambda x: len(str(x)) if pd.notna(x) else 0)\n",
    "    \n",
    "    keywords = ['tragedy', 'comedy', 'epic', 'journey', 'battle', 'school', 'love', 'magic', 'robot', 'war']\n",
    "    \n",
    "    for keyword in keywords:\n",
    "        anime_df[f'synopsis_has_{keyword}'] = anime_df['synopsis'].apply(\n",
    "            lambda x: 1 if pd.notna(x) and keyword.lower() in str(x).lower() else 0\n",
    "        )\n",
    "    \n",
    "    print(\"\\nSynopsis keyword features created:\")\n",
    "    for keyword in keywords:\n",
    "        count = anime_df[f'synopsis_has_{keyword}'].sum()\n",
    "        print(f\"  'synopsis_has_{keyword}': {count} anime\")"
   ]
  },
  {
   "cell_type": "code",
   "execution_count": 33,
   "id": "146ad035-5510-4ca6-bf43-1d89210d956c",
   "metadata": {},
   "outputs": [
    {
     "name": "stdout",
     "output_type": "stream",
     "text": [
      "\n",
      "Top 10 features most correlated with score:\n",
      "  composite_score: 0.804\n",
      "  favorites: 0.518\n",
      "  genre_Award Winning: 0.342\n",
      "  prestigious_studio: 0.336\n",
      "  theme_Military: 0.273\n",
      "  length_Movie/Special: 0.255\n",
      "  genre_Drama: 0.252\n",
      "  members: 0.244\n",
      "  scored_by: 0.235\n",
      "  length_Very Long: 0.207\n",
      "\n",
      "Bottom 5 features least correlated with score:\n",
      "  genre_Horror: -0.370\n",
      "  rank: -0.879\n",
      "  length_Very Short: nan\n",
      "  genres_Comedy_Slice of Life: nan\n",
      "  era_Classic: nan\n"
     ]
    }
   ],
   "source": [
    "# Check correlation of new features with score\n",
    "numeric_features = anime_df.select_dtypes(include=['number']).columns\n",
    "feature_correlations = anime_df[numeric_features].corr()['score'].sort_values(ascending=False)\n",
    "\n",
    "print(\"\\nTop 10 features most correlated with score:\")\n",
    "for feature, corr in feature_correlations.head(11).items():\n",
    "    if feature != 'score': \n",
    "        print(f\"  {feature}: {corr:.3f}\")\n",
    "\n",
    "print(\"\\nBottom 5 features least correlated with score:\")\n",
    "for feature, corr in feature_correlations.tail(5).items():\n",
    "    print(f\"  {feature}: {corr:.3f}\")"
   ]
  },
  {
   "cell_type": "code",
   "execution_count": null,
   "id": "0febf177-ef5d-4c38-84a4-6c5ebee44d40",
   "metadata": {},
   "outputs": [],
   "source": []
  }
 ],
 "metadata": {
  "kernelspec": {
   "display_name": "Python 3 (ipykernel)",
   "language": "python",
   "name": "python3"
  },
  "language_info": {
   "codemirror_mode": {
    "name": "ipython",
    "version": 3
   },
   "file_extension": ".py",
   "mimetype": "text/x-python",
   "name": "python",
   "nbconvert_exporter": "python",
   "pygments_lexer": "ipython3",
   "version": "3.12.2"
  }
 },
 "nbformat": 4,
 "nbformat_minor": 5
}
